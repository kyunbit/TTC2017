{
 "cells": [
  {
   "cell_type": "code",
   "execution_count": 1,
   "metadata": {
    "collapsed": false
   },
   "outputs": [
    {
     "name": "stdout",
     "output_type": "stream",
     "text": [
      "2 ['Show me all theatre performances in San Francisco between 4th and 6th July.', 'Preferably somewhere near Union Square']\n"
     ]
    }
   ],
   "source": [
    "#import nltk\n",
    "from nltk.tokenize import sent_tokenize\n",
    "sentence = \"Show me all theatre performances in San Francisco between 4th and 6th July. Preferably somewhere near Union Square\"\n",
    "tokens = sent_tokenize(sentence)\n",
    "print (len(tokens), tokens)"
   ]
  },
  {
   "cell_type": "code",
   "execution_count": 2,
   "metadata": {
    "collapsed": false,
    "scrolled": true
   },
   "outputs": [
    {
     "name": "stdout",
     "output_type": "stream",
     "text": [
      "14 ['Show', 'me', 'all', 'theatre', 'performances', 'in', 'San', 'Francisco', 'between', '4th', 'and', '6th', 'July', '.']\n"
     ]
    }
   ],
   "source": [
    "from nltk.tokenize import word_tokenize\n",
    "sentence = \"Show me all theatre performances in San Francisco between 4th and 6th July.\"\n",
    "tokens = word_tokenize(sentence)\n",
    "print (len(tokens), tokens)"
   ]
  },
  {
   "cell_type": "code",
   "execution_count": 6,
   "metadata": {
    "collapsed": false
   },
   "outputs": [
    {
     "name": "stdout",
     "output_type": "stream",
     "text": [
      "Show me all theatre performances in San Francisco between 4th and 6th July\n"
     ]
    }
   ],
   "source": [
    "import string\n",
    "s = sentence.translate(str.maketrans('','',string.punctuation))\n",
    "print(s)"
   ]
  },
  {
   "cell_type": "code",
   "execution_count": 10,
   "metadata": {
    "collapsed": false
   },
   "outputs": [
    {
     "name": "stdout",
     "output_type": "stream",
     "text": [
      "9 ['Show', 'theatre', 'performances', 'San', 'Francisco', '4th', '6th', 'July', '.']\n"
     ]
    }
   ],
   "source": [
    "#nltk.download('stopwords')\n",
    "from nltk.corpus import stopwords\n",
    "stop_words = set(stopwords.words('english'))\n",
    "tokens = [w for w in tokens if not w in stop_words]\n",
    "print (len(tokens), tokens)"
   ]
  },
  {
   "cell_type": "code",
   "execution_count": 17,
   "metadata": {
    "collapsed": false
   },
   "outputs": [
    {
     "name": "stdout",
     "output_type": "stream",
     "text": [
      "Show\n",
      "theatr\n",
      "perform\n",
      "San\n",
      "Francisco\n",
      "4th\n",
      "6th\n",
      "Juli\n",
      ".\n"
     ]
    }
   ],
   "source": [
    "from nltk.stem import PorterStemmer\n",
    "ps = PorterStemmer()\n",
    "for t in tokens:\n",
    "    print(ps.stem(t))"
   ]
  },
  {
   "cell_type": "code",
   "execution_count": 16,
   "metadata": {
    "collapsed": false
   },
   "outputs": [
    {
     "name": "stdout",
     "output_type": "stream",
     "text": [
      "Show\n",
      "theatre\n",
      "performance\n",
      "San\n",
      "Francisco\n",
      "4th\n",
      "6th\n",
      "July\n",
      ".\n"
     ]
    }
   ],
   "source": [
    "# import nltk\n",
    "# nltk.download('wordnet')\n",
    "from nltk.stem.wordnet import WordNetLemmatizer\n",
    "wordnet_lemmatizer = WordNetLemmatizer()\n",
    "for t in tokens:\n",
    "    print(wordnet_lemmatizer.lemmatize(t))"
   ]
  },
  {
   "cell_type": "code",
   "execution_count": 21,
   "metadata": {
    "collapsed": false
   },
   "outputs": [
    {
     "name": "stdout",
     "output_type": "stream",
     "text": [
      "[('Show', 'NNP'), ('theatre', 'VBZ'), ('performances', 'NNS'), ('San', 'NNP'), ('Francisco', 'NNP'), ('4th', 'CD'), ('6th', 'CD'), ('July', 'NNP'), ('.', '.')]\n"
     ]
    }
   ],
   "source": [
    "import nltk\n",
    "# nltk.download('averaged_perceptron_tagger')\n",
    "tags = nltk.pos_tag(tokens)\n",
    "print (tags)"
   ]
  },
  {
   "cell_type": "code",
   "execution_count": 20,
   "metadata": {
    "collapsed": false
   },
   "outputs": [
    {
     "name": "stdout",
     "output_type": "stream",
     "text": [
      "[('Show', 'VB', 'O'), ('me', 'PRP', 'O'), ('all', 'DT', 'O'), ('theatre', 'JJ', 'O'), ('performances', 'NNS', 'O'), ('in', 'IN', 'O'), ('San', 'NNP', 'B-GPE'), ('Francisco', 'NNP', 'I-GPE'), ('between', 'IN', 'O'), ('4th', 'CD', 'O'), ('and', 'CC', 'O'), ('6th', 'CD', 'O'), ('July', 'NNP', 'O'), ('.', '.', 'O')]\n"
     ]
    }
   ],
   "source": [
    "# nltk.download('maxent_ne_chunker')\n",
    "# nltk.download('words')\n",
    "from nltk import word_tokenize, pos_tag, ne_chunk\n",
    "from nltk.chunk import conlltags2tree, tree2conlltags\n",
    "\n",
    "# chunk the sentence\n",
    "ne_tree = ne_chunk(pos_tag(word_tokenize(sentence)))\n",
    " \n",
    "# IOB transform\n",
    "# B-{CHUNK_TYPE} – for the word in the Beginning chunk\n",
    "# I-{CHUNK_TYPE} – for words Inside the chunk\n",
    "# O – Outside any chunk\n",
    "\n",
    "iob_tagged = tree2conlltags(ne_tree)\n",
    "print (iob_tagged)\n"
   ]
  },
  {
   "cell_type": "code",
   "execution_count": null,
   "metadata": {
    "collapsed": true
   },
   "outputs": [],
   "source": []
  }
 ],
 "metadata": {
  "anaconda-cloud": {},
  "kernelspec": {
   "display_name": "Python [Root]",
   "language": "python",
   "name": "Python [Root]"
  },
  "language_info": {
   "codemirror_mode": {
    "name": "ipython",
    "version": 3
   },
   "file_extension": ".py",
   "mimetype": "text/x-python",
   "name": "python",
   "nbconvert_exporter": "python",
   "pygments_lexer": "ipython3",
   "version": "3.5.2"
  }
 },
 "nbformat": 4,
 "nbformat_minor": 0
}
